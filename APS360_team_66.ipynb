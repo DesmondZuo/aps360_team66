{
  "nbformat": 4,
  "nbformat_minor": 0,
  "metadata": {
    "colab": {
      "name": "APS360_team_66.ipynb",
      "provenance": [],
      "collapsed_sections": [],
      "include_colab_link": true
    },
    "kernelspec": {
      "name": "python3",
      "display_name": "Python 3"
    },
    "widgets": {
      "application/vnd.jupyter.widget-state+json": {
        "5605c508317240e49368f7bfc7601cf9": {
          "model_module": "@jupyter-widgets/controls",
          "model_name": "HBoxModel",
          "state": {
            "_view_name": "HBoxView",
            "_dom_classes": [],
            "_model_name": "HBoxModel",
            "_view_module": "@jupyter-widgets/controls",
            "_model_module_version": "1.5.0",
            "_view_count": null,
            "_view_module_version": "1.5.0",
            "box_style": "",
            "layout": "IPY_MODEL_89449f4f89374a778e1618fc65bec944",
            "_model_module": "@jupyter-widgets/controls",
            "children": [
              "IPY_MODEL_b905f7b7e09146a492b7e2ce3771cf09",
              "IPY_MODEL_d4a4607c9bf44dbf8af0f5bbbff7ac91"
            ]
          }
        },
        "89449f4f89374a778e1618fc65bec944": {
          "model_module": "@jupyter-widgets/base",
          "model_name": "LayoutModel",
          "state": {
            "_view_name": "LayoutView",
            "grid_template_rows": null,
            "right": null,
            "justify_content": null,
            "_view_module": "@jupyter-widgets/base",
            "overflow": null,
            "_model_module_version": "1.2.0",
            "_view_count": null,
            "flex_flow": null,
            "width": null,
            "min_width": null,
            "border": null,
            "align_items": null,
            "bottom": null,
            "_model_module": "@jupyter-widgets/base",
            "top": null,
            "grid_column": null,
            "overflow_y": null,
            "overflow_x": null,
            "grid_auto_flow": null,
            "grid_area": null,
            "grid_template_columns": null,
            "flex": null,
            "_model_name": "LayoutModel",
            "justify_items": null,
            "grid_row": null,
            "max_height": null,
            "align_content": null,
            "visibility": null,
            "align_self": null,
            "height": null,
            "min_height": null,
            "padding": null,
            "grid_auto_rows": null,
            "grid_gap": null,
            "max_width": null,
            "order": null,
            "_view_module_version": "1.2.0",
            "grid_template_areas": null,
            "object_position": null,
            "object_fit": null,
            "grid_auto_columns": null,
            "margin": null,
            "display": null,
            "left": null
          }
        },
        "b905f7b7e09146a492b7e2ce3771cf09": {
          "model_module": "@jupyter-widgets/controls",
          "model_name": "FloatProgressModel",
          "state": {
            "_view_name": "ProgressView",
            "style": "IPY_MODEL_99cb68c6e4054e17b8d457fdadbee0d6",
            "_dom_classes": [],
            "description": "100%",
            "_model_name": "FloatProgressModel",
            "bar_style": "success",
            "max": 244418560,
            "_view_module": "@jupyter-widgets/controls",
            "_model_module_version": "1.5.0",
            "value": 244418560,
            "_view_count": null,
            "_view_module_version": "1.5.0",
            "orientation": "horizontal",
            "min": 0,
            "description_tooltip": null,
            "_model_module": "@jupyter-widgets/controls",
            "layout": "IPY_MODEL_3edc3211c70a416a9c21cad44ceb0b86"
          }
        },
        "d4a4607c9bf44dbf8af0f5bbbff7ac91": {
          "model_module": "@jupyter-widgets/controls",
          "model_name": "HTMLModel",
          "state": {
            "_view_name": "HTMLView",
            "style": "IPY_MODEL_dea4c04016d846669fc5f3b97cb31e1e",
            "_dom_classes": [],
            "description": "",
            "_model_name": "HTMLModel",
            "placeholder": "​",
            "_view_module": "@jupyter-widgets/controls",
            "_model_module_version": "1.5.0",
            "value": " 233M/233M [03:05&lt;00:00, 1.32MB/s]",
            "_view_count": null,
            "_view_module_version": "1.5.0",
            "description_tooltip": null,
            "_model_module": "@jupyter-widgets/controls",
            "layout": "IPY_MODEL_a0f00051e17e4810980e8f33a54fbb01"
          }
        },
        "99cb68c6e4054e17b8d457fdadbee0d6": {
          "model_module": "@jupyter-widgets/controls",
          "model_name": "ProgressStyleModel",
          "state": {
            "_view_name": "StyleView",
            "_model_name": "ProgressStyleModel",
            "description_width": "initial",
            "_view_module": "@jupyter-widgets/base",
            "_model_module_version": "1.5.0",
            "_view_count": null,
            "_view_module_version": "1.2.0",
            "bar_color": null,
            "_model_module": "@jupyter-widgets/controls"
          }
        },
        "3edc3211c70a416a9c21cad44ceb0b86": {
          "model_module": "@jupyter-widgets/base",
          "model_name": "LayoutModel",
          "state": {
            "_view_name": "LayoutView",
            "grid_template_rows": null,
            "right": null,
            "justify_content": null,
            "_view_module": "@jupyter-widgets/base",
            "overflow": null,
            "_model_module_version": "1.2.0",
            "_view_count": null,
            "flex_flow": null,
            "width": null,
            "min_width": null,
            "border": null,
            "align_items": null,
            "bottom": null,
            "_model_module": "@jupyter-widgets/base",
            "top": null,
            "grid_column": null,
            "overflow_y": null,
            "overflow_x": null,
            "grid_auto_flow": null,
            "grid_area": null,
            "grid_template_columns": null,
            "flex": null,
            "_model_name": "LayoutModel",
            "justify_items": null,
            "grid_row": null,
            "max_height": null,
            "align_content": null,
            "visibility": null,
            "align_self": null,
            "height": null,
            "min_height": null,
            "padding": null,
            "grid_auto_rows": null,
            "grid_gap": null,
            "max_width": null,
            "order": null,
            "_view_module_version": "1.2.0",
            "grid_template_areas": null,
            "object_position": null,
            "object_fit": null,
            "grid_auto_columns": null,
            "margin": null,
            "display": null,
            "left": null
          }
        },
        "dea4c04016d846669fc5f3b97cb31e1e": {
          "model_module": "@jupyter-widgets/controls",
          "model_name": "DescriptionStyleModel",
          "state": {
            "_view_name": "StyleView",
            "_model_name": "DescriptionStyleModel",
            "description_width": "",
            "_view_module": "@jupyter-widgets/base",
            "_model_module_version": "1.5.0",
            "_view_count": null,
            "_view_module_version": "1.2.0",
            "_model_module": "@jupyter-widgets/controls"
          }
        },
        "a0f00051e17e4810980e8f33a54fbb01": {
          "model_module": "@jupyter-widgets/base",
          "model_name": "LayoutModel",
          "state": {
            "_view_name": "LayoutView",
            "grid_template_rows": null,
            "right": null,
            "justify_content": null,
            "_view_module": "@jupyter-widgets/base",
            "overflow": null,
            "_model_module_version": "1.2.0",
            "_view_count": null,
            "flex_flow": null,
            "width": null,
            "min_width": null,
            "border": null,
            "align_items": null,
            "bottom": null,
            "_model_module": "@jupyter-widgets/base",
            "top": null,
            "grid_column": null,
            "overflow_y": null,
            "overflow_x": null,
            "grid_auto_flow": null,
            "grid_area": null,
            "grid_template_columns": null,
            "flex": null,
            "_model_name": "LayoutModel",
            "justify_items": null,
            "grid_row": null,
            "max_height": null,
            "align_content": null,
            "visibility": null,
            "align_self": null,
            "height": null,
            "min_height": null,
            "padding": null,
            "grid_auto_rows": null,
            "grid_gap": null,
            "max_width": null,
            "order": null,
            "_view_module_version": "1.2.0",
            "grid_template_areas": null,
            "object_position": null,
            "object_fit": null,
            "grid_auto_columns": null,
            "margin": null,
            "display": null,
            "left": null
          }
        }
      }
    }
  },
  "cells": [
    {
      "cell_type": "markdown",
      "metadata": {
        "id": "view-in-github",
        "colab_type": "text"
      },
      "source": [
        "<a href=\"https://colab.research.google.com/github/LinZhihao-723/aps360_team66/blob/master/APS360_team_66.ipynb\" target=\"_parent\"><img src=\"https://colab.research.google.com/assets/colab-badge.svg\" alt=\"Open In Colab\"/></a>"
      ]
    },
    {
      "cell_type": "code",
      "metadata": {
        "collapsed": true,
        "id": "WBrH5kBqRLa6"
      },
      "source": [
        "import numpy as np\n",
        "import time\n",
        "import torch\n",
        "import torch.nn as nn\n",
        "import torch.nn.functional as F\n",
        "import torch.optim as optim\n",
        "import torchvision\n",
        "from torch.utils.data.sampler import SubsetRandomSampler\n",
        "import torchvision.transforms as transforms\n",
        "import matplotlib.pyplot as plt"
      ],
      "execution_count": null,
      "outputs": []
    },
    {
      "cell_type": "code",
      "metadata": {
        "id": "tjFdVlBYO4qg",
        "colab": {
          "base_uri": "https://localhost:8080/"
        },
        "outputId": "9f06c4dc-75b0-411e-f556-65cb3acf0527"
      },
      "source": [
        "from google.colab import drive\n",
        "drive.mount('/content/gdrive')"
      ],
      "execution_count": null,
      "outputs": [
        {
          "output_type": "stream",
          "text": [
            "Mounted at /content/gdrive\n"
          ],
          "name": "stdout"
        }
      ]
    },
    {
      "cell_type": "code",
      "metadata": {
        "id": "xFVfFGfK1_-S"
      },
      "source": [
        "def get_Train_Val_loader(batch_size = 1, \n",
        "                    path_train = '/content/gdrive/MyDrive/Project_Data/training', \n",
        "                    path_val = '/content/gdrive/MyDrive/Project_Data/validation',\n",
        "                    path_test = '/content/gdrive/MyDrive/Project_Data/testing',\n",
        "                    seed = 1000):\n",
        "    transform = transforms.Compose(\n",
        "        [transforms.Resize(48*4),\n",
        "         transforms.CenterCrop(48*4), transforms.ToTensor(),\n",
        "         transforms.Normalize((0.5, 0.5, 0.5), (0.5, 0.5, 0.5))])\n",
        "    \n",
        "    dataset_train = torchvision.datasets.ImageFolder(root = path_train, transform = transform)\n",
        "    dataset_val = torchvision.datasets.ImageFolder(root = path_val, transform = transform)\n",
        "    dataset_test = torchvision.datasets.ImageFolder(root = path_test, transform = transform)\n",
        "    indices_train = list(range(len(dataset_train)))\n",
        "    indices_val = list(range(len(dataset_val)))\n",
        "    indices_test = list(range(len(dataset_test)))\n",
        "\n",
        "    np.random.seed(seed) # Fixed numpy random seed for reproducible shuffling\n",
        "    np.random.shuffle(indices_train)\n",
        "    np.random.shuffle(indices_val)\n",
        "    \n",
        "    train_sampler = SubsetRandomSampler(indices_train)\n",
        "    train_loader = torch.utils.data.DataLoader(dataset_train, batch_size=batch_size,\n",
        "                                               num_workers=1, sampler=train_sampler)\n",
        "  \n",
        "    val_sampler = SubsetRandomSampler(indices_val)\n",
        "    val_loader = torch.utils.data.DataLoader(dataset_val, batch_size=batch_size,\n",
        "                                              num_workers=1, sampler=val_sampler)\n",
        "    test_sampler = SubsetRandomSampler(indices_test)\n",
        "    test_loader = torch.utils.data.DataLoader(dataset_test, batch_size=batch_size,\n",
        "                                              num_workers=1, sampler=test_sampler)\n",
        "    print('train set size: ', len(indices_train))\n",
        "    print('validation set size: ', len(indices_val))\n",
        "    print('test set size: ', len(indices_test))\n",
        "    return train_loader, val_loader, test_loader"
      ],
      "execution_count": null,
      "outputs": []
    },
    {
      "cell_type": "code",
      "metadata": {
        "id": "ehtOerR46Ctc",
        "colab": {
          "base_uri": "https://localhost:8080/"
        },
        "outputId": "a6e04ce2-04a9-42fb-a29f-6bada33c411a"
      },
      "source": [
        "a, b, c = get_Train_Val_loader(batch_size=1)"
      ],
      "execution_count": null,
      "outputs": [
        {
          "output_type": "stream",
          "text": [
            "train set size:  4864\n",
            "validation set size:  1159\n",
            "test set size:  1223\n"
          ],
          "name": "stdout"
        }
      ]
    },
    {
      "cell_type": "code",
      "metadata": {
        "colab": {
          "base_uri": "https://localhost:8080/",
          "height": 104,
          "referenced_widgets": [
            "5605c508317240e49368f7bfc7601cf9",
            "89449f4f89374a778e1618fc65bec944",
            "b905f7b7e09146a492b7e2ce3771cf09",
            "d4a4607c9bf44dbf8af0f5bbbff7ac91",
            "99cb68c6e4054e17b8d457fdadbee0d6",
            "3edc3211c70a416a9c21cad44ceb0b86",
            "dea4c04016d846669fc5f3b97cb31e1e",
            "a0f00051e17e4810980e8f33a54fbb01"
          ]
        },
        "id": "unzx8w1o8psZ",
        "outputId": "4bc5a6c2-d8d9-4f4b-ed72-8bfab49d8e60"
      },
      "source": [
        "import torchvision.models\n",
        "alexnet = torchvision.models.alexnet(pretrained=True)"
      ],
      "execution_count": null,
      "outputs": [
        {
          "output_type": "stream",
          "text": [
            "Downloading: \"https://download.pytorch.org/models/alexnet-owt-4df8aa71.pth\" to /root/.cache/torch/hub/checkpoints/alexnet-owt-4df8aa71.pth\n"
          ],
          "name": "stderr"
        },
        {
          "output_type": "display_data",
          "data": {
            "application/vnd.jupyter.widget-view+json": {
              "model_id": "5605c508317240e49368f7bfc7601cf9",
              "version_minor": 0,
              "version_major": 2
            },
            "text/plain": [
              "HBox(children=(FloatProgress(value=0.0, max=244418560.0), HTML(value='')))"
            ]
          },
          "metadata": {
            "tags": []
          }
        },
        {
          "output_type": "stream",
          "text": [
            "\n"
          ],
          "name": "stdout"
        }
      ]
    },
    {
      "cell_type": "code",
      "metadata": {
        "collapsed": true,
        "id": "TBo1BpL373LX"
      },
      "source": [
        "####DO NOT RUN ANYMORE\n",
        "def load_alexnet(train_loader, val_loader, test_loader,\n",
        "                 path_alexnet = '/content/gdrive/MyDrive/Project_Data/Data_alexnet'):  \n",
        "    expression_class = ['positive', 'negative', 'neutral']\n",
        "    i,j,k = 0,0,0;\n",
        "    for img, type_expression in train_loader:\n",
        "      #print(img.size(), expression_class[type_expression])\n",
        "      features = alexnet.features(img)\n",
        "      features = torch.from_numpy(features.detach().numpy())\n",
        "      #print(type_expression)\n",
        "      #print(img)\n",
        "      torch.save(features.squeeze(0), path_alexnet + '/training/' + str(expression_class[type_expression]) + '/' + str(i) + '.tensor')\n",
        "      i = i + 1\n",
        "\n",
        "    for img, type_expression in val_loader:\n",
        "      features = alexnet.features(img)\n",
        "      features = torch.from_numpy(features.detach().numpy())\n",
        "      torch.save(features.squeeze(0), path_alexnet + '/validation/' + str(expression_class[type_expression]) + '/' + str(j) + '.tensor')\n",
        "      j = j + 1\n",
        "    for img, type_expression in test_loader:\n",
        "      features = alexnet.features(img)\n",
        "      features = torch.from_numpy(features.detach().numpy())\n",
        "      torch.save(features.squeeze(0), path_alexnet + '/testing/' + str(expression_class[type_expression]) + '/' + str(k) + '.tensor')\n",
        "      k = k + 1"
      ],
      "execution_count": null,
      "outputs": []
    },
    {
      "cell_type": "code",
      "metadata": {
        "id": "ensiUTAdH394"
      },
      "source": [
        "# don't run don't run don't run don't run!!!!!!!!!!!!!!!!!!!!\n",
        "# don't run don't run don't run don't run!!!!!!!!!!!!!!!!!!!!\n",
        "# don't run don't run don't run don't run!!!!!!!!!!!!!!!!!!!!\n",
        "#load_alexnet(train_loader = a, val_loader = b, test_loader = c)"
      ],
      "execution_count": null,
      "outputs": []
    },
    {
      "cell_type": "code",
      "metadata": {
        "id": "fRwbHWHh2f2Q"
      },
      "source": [
        "def get_alexnet_loader(batch_size = 10,\n",
        "                    path_alex_train = '/content/gdrive/MyDrive/Project_Data/Data_alexnet/training', \n",
        "                    path_alex_val = '/content/gdrive/MyDrive/Project_Data/Data_alexnet/validation',\n",
        "                    path_alex_test = '/content/gdrive/MyDrive/Project_Data/Data_alexnet/testing',\n",
        "                    seed = 1000):\n",
        "    # Load CIFAR10 training data\n",
        "    alex_data_set_train = torchvision.datasets.DatasetFolder(root = path_alex_train, \n",
        "                                                       loader=torch.load, extensions=('.tensor'))\n",
        "    alex_data_set_val = torchvision.datasets.DatasetFolder(root = path_alex_val, \n",
        "                                                       loader=torch.load, extensions=('.tensor'))\n",
        "    alex_data_set_test = torchvision.datasets.DatasetFolder(root = path_alex_test, \n",
        "                                                       loader=torch.load, extensions=('.tensor'))\n",
        "    all_indices_train = list(range(len(alex_data_set_train)));\n",
        "    all_indices_val = list(range(len(alex_data_set_val)));\n",
        "    all_indices_test = list(range(len(alex_data_set_test)));\n",
        "\n",
        "    np.random.seed(seed) # Fixed numpy random seed for reproducible shuffling\n",
        "    np.random.shuffle(all_indices_train)\n",
        "    np.random.shuffle(all_indices_val)\n",
        "    np.random.shuffle(all_indices_test)\n",
        "    \n",
        "    train_sampler = SubsetRandomSampler(all_indices_train)\n",
        "    train_loader = torch.utils.data.DataLoader(alex_data_set_train, batch_size=batch_size,\n",
        "                                               num_workers=1, sampler=train_sampler)\n",
        "    val_sampler = SubsetRandomSampler(all_indices_val)\n",
        "    val_loader = torch.utils.data.DataLoader(alex_data_set_val, batch_size=batch_size,\n",
        "                                              num_workers=1, sampler=val_sampler)\n",
        "    test_sampler = SubsetRandomSampler(all_indices_test)\n",
        "    test_loader = torch.utils.data.DataLoader(alex_data_set_test, batch_size=batch_size,\n",
        "                                              num_workers=1, sampler=test_sampler)\n",
        "    \n",
        "    print('train set size: ', len(all_indices_train))\n",
        "    print('validation set size: ', len(all_indices_val))\n",
        "    print('test set size: ', len(all_indices_test))\n",
        "    return train_loader, val_loader, test_loader"
      ],
      "execution_count": null,
      "outputs": []
    },
    {
      "cell_type": "code",
      "metadata": {
        "colab": {
          "base_uri": "https://localhost:8080/"
        },
        "id": "f0fsqW-KyKMl",
        "outputId": "f51a2f3e-0245-4d3b-c35c-d0f66a00829c"
      },
      "source": [
        "get_alexnet_loader(batch_size = 10)"
      ],
      "execution_count": null,
      "outputs": [
        {
          "output_type": "stream",
          "text": [
            "train set size:  4864\n",
            "validation set size:  1159\n",
            "test set size:  1223\n"
          ],
          "name": "stdout"
        },
        {
          "output_type": "execute_result",
          "data": {
            "text/plain": [
              "(<torch.utils.data.dataloader.DataLoader at 0x7f50b15507d0>,\n",
              " <torch.utils.data.dataloader.DataLoader at 0x7f505fcbe390>,\n",
              " <torch.utils.data.dataloader.DataLoader at 0x7f505fcbe210>)"
            ]
          },
          "metadata": {
            "tags": []
          },
          "execution_count": 13
        }
      ]
    },
    {
      "cell_type": "markdown",
      "metadata": {
        "id": "mwHQ9UdYyp5L"
      },
      "source": [
        "**Model and Training**"
      ]
    },
    {
      "cell_type": "code",
      "metadata": {
        "id": "WEaY5ANyy0IB"
      },
      "source": [
        "class CNN(nn.Module):\n",
        "  def __init__(self):\n",
        "        super(CNN, self).__init__()\n",
        "        self.layers = nn.Sequential(\n",
        "            nn.Conv2d(256, 128, 1),\n",
        "            nn.ReLU(),\n",
        "            nn.Conv2d(128, 64, 3),\n",
        "            nn.ReLU(),\n",
        "            nn.Conv2d(64, 32, 1),\n",
        "            nn.ReLU(),\n",
        "            nn.Flatten(),\n",
        "            nn.Linear(32 * 3 * 3, 500),\n",
        "            nn.Dropout(0.5), #20% probability \n",
        "            nn.ReLU(),\n",
        "            nn.Linear(500, 300),\n",
        "            nn.Dropout(0.5), #50% probability \n",
        "            # nn.Dropout(0.2), #50% probability \n",
        "            nn.ReLU(),\n",
        "            nn.Linear(300, 3)\n",
        "        )\n",
        "\n",
        "  def forward(self, x):\n",
        "        x = self.layers(x)\n",
        "        return x\n",
        "\n",
        "class Benchmark_NN(nn.Module):\n",
        "  def __init__(self):\n",
        "        super(Benchmark_NN, self).__init__()\n",
        "        self.fc1 = nn.Linear(256 * 5 * 5, 500)\n",
        "        self.fc2 = nn.Linear(500, 300)\n",
        "        self.fc3 = nn.Linear(300, 3)\n",
        "\n",
        "  def forward(self, x):\n",
        "        x = x.view(-1, 256 * 5 * 5)\n",
        "        x = F.relu(self.fc1(x))\n",
        "        x = F.relu(self.fc2(x))\n",
        "        x = self.fc3(x)\n",
        "        return x"
      ],
      "execution_count": null,
      "outputs": []
    },
    {
      "cell_type": "code",
      "metadata": {
        "id": "CSt7ndIyy2BL"
      },
      "source": [
        "# This function is used to evaluate the model, by passing a validation set or a test set.\n",
        "def evaluate(net, loader, batch_size):\n",
        "  criterion = nn.CrossEntropyLoss()\n",
        "  num_error = 0\n",
        "  num_total = 0\n",
        "  total_loss = 0.0\n",
        "  for i, data in enumerate(loader, 0):\n",
        "    inputs, labels = data\n",
        "    outputs = net(inputs)\n",
        "    loss = criterion(outputs, labels)   \n",
        "    total_loss += loss.item() * inputs.size(0)\n",
        "    for index, target in enumerate(outputs):\n",
        "      num_total += 1\n",
        "      if torch.argmax(target) != labels[index]:\n",
        "        num_error += 1\n",
        "  return total_loss/num_total, num_error/num_total\n",
        "\n",
        "def final_evaluate(net, loader):\n",
        "  num_label_total = [0, 0, 0]\n",
        "  num_label_predict = [0, 0, 0]\n",
        "  num_label_correct = [0, 0, 0]\n",
        "  num_label_miss = [0, 0, 0]\n",
        "  num_label_confused = [0, 0, 0]\n",
        "  overall_num = [[0, 0, 0], [0, 0, 0], [0, 0, 0]]\n",
        "  criterion = nn.CrossEntropyLoss()\n",
        "  num_error = 0\n",
        "  num_total = 0\n",
        "  total_loss = 0.0\n",
        "  for i, data in enumerate(loader, 0):\n",
        "    inputs, labels = data\n",
        "    outputs = net(inputs)\n",
        "    loss = criterion(outputs, labels)   \n",
        "    total_loss += loss.item() * inputs.size(0)\n",
        "    for index, target in enumerate(outputs):\n",
        "      num_total += 1\n",
        "      num_label_total[labels[index]] += 1\n",
        "      num_label_predict[torch.argmax(target)] += 1\n",
        "      overall_num[labels[index]][torch.argmax(target)] += 1\n",
        "      if torch.argmax(target) != labels[index]:\n",
        "        num_error += 1\n",
        "        num_label_miss[labels[index]] += 1\n",
        "        num_label_confused[torch.argmax(target)] += 1\n",
        "      else:\n",
        "        num_label_correct[torch.argmax(target)] += 1\n",
        "  print(\"Total: \", num_label_total)\n",
        "  print(\"Predict: \", num_label_predict)\n",
        "  print(\"Correct: \", num_label_correct)\n",
        "  print(\"Miss: \", num_label_miss)\n",
        "  print(\"Confused: \", num_label_confused)\n",
        "  print(\"Overall: \", overall_num)\n",
        "  return total_loss/num_total, num_error/num_total\n",
        "\n",
        "# Loaders should be processed before calling this function\n",
        "def training_process(net, batch_size, learning_rate, num_epochs, train_loader, validation_loader):\n",
        "  torch.manual_seed(3190)\n",
        "  criterion = nn.CrossEntropyLoss()\n",
        "  optimizer = optim.SGD(net.parameters(), lr=learning_rate, momentum=0.9)\n",
        "\n",
        "  print(\"Start training\")\n",
        "  start_time = time.time()\n",
        "\n",
        "  train_err_list = np.zeros(num_epochs)\n",
        "  train_loss_list = np.zeros(num_epochs)\n",
        "  val_err_list = np.zeros(num_epochs)\n",
        "  val_loss_list = np.zeros(num_epochs)\n",
        "\n",
        "  for epoch in range(num_epochs):\n",
        "    train_loss = 0.0\n",
        "    num_train_total = 0\n",
        "    num_train_error = 0\n",
        "\n",
        "    # training:\n",
        "    for i, data in enumerate(train_loader, 0):\n",
        "      inputs, labels = data\n",
        "      optimizer.zero_grad()\n",
        "      outputs = net(inputs)\n",
        "      loss = criterion(outputs, labels)\n",
        "      loss.backward()\n",
        "      optimizer.step()\n",
        "      train_loss += loss.item() * inputs.size(0)\n",
        "      for index, target in enumerate(outputs):\n",
        "        num_train_total += 1\n",
        "        if torch.argmax(target) != labels[index]:\n",
        "          num_train_error += 1\n",
        "    train_loss_list[epoch] = train_loss / num_train_total\n",
        "    train_err_list[epoch] = num_train_error / num_train_total\n",
        "    # validation:\n",
        "    val_loss_list[epoch], val_err_list[epoch] = evaluate(net, validation_loader, batch_size)\n",
        "    \n",
        "    print((\"Epoch {}: Train err: {}, Train loss: {} |\"+\n",
        "               \"Validation err: {}, Validation loss: {}\").format(\n",
        "                   epoch + 1,\n",
        "                   train_err_list[epoch],\n",
        "                   train_loss_list[epoch],\n",
        "                   val_err_list[epoch],\n",
        "                   val_loss_list[epoch]))\n",
        "    \n",
        "  print('Finished Training')\n",
        "  end_time = time.time()\n",
        "  elapsed_time = end_time - start_time\n",
        "  print(\"Total time elapsed: {:.2f} seconds\".format(elapsed_time))\n",
        "\n",
        "  # Plot error\n",
        "  plt.title(\"Train vs Validation Error\")\n",
        "  n = len(train_err_list) # number of epochs\n",
        "  plt.plot(range(1,n+1), train_err_list, label=\"Train\")\n",
        "  plt.plot(range(1,n+1), val_err_list, label=\"Validation\")\n",
        "  plt.xlabel(\"Epoch\")\n",
        "  plt.ylabel(\"Error\")\n",
        "  plt.legend(loc='best')\n",
        "  plt.show()\n",
        "\n",
        "  # Plot loss\n",
        "  plt.title(\"Train vs Validation Loss\")\n",
        "  plt.plot(range(1,n+1), train_loss_list, label=\"Train\")\n",
        "  plt.plot(range(1,n+1), val_loss_list, label=\"Validation\")\n",
        "  plt.xlabel(\"Epoch\")\n",
        "  plt.ylabel(\"Loss\")\n",
        "  plt.legend(loc='best')\n",
        "  plt.show()"
      ],
      "execution_count": null,
      "outputs": []
    }
  ]
}